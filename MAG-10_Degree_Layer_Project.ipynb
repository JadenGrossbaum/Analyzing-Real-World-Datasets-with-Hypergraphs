{
 "cells": [
  {
   "cell_type": "code",
   "execution_count": 2,
   "metadata": {},
   "outputs": [],
   "source": [
    "import pandas as pd\n",
    "import statistics\n",
    "from collections import Counter\n",
    "import networkx as nx\n",
    "import matplotlib.pyplot as plt\n",
    "import numpy as np"
   ]
  },
  {
   "cell_type": "code",
   "execution_count": 3,
   "metadata": {},
   "outputs": [],
   "source": [
    "def get_edges_from_file(file_edge,file_labels,wanted_layer):\n",
    "    #First Task: Open the file\n",
    "    with open (file_edge, 'r') as filehandle:\n",
    "        raw_edges = filehandle.readlines()\n",
    "    with open (file_labels, 'r') as filehandle:\n",
    "        raw_layers = filehandle.readlines()\n",
    "\n",
    "    raw_layers = [int(line.strip()) for line in raw_layers]\n",
    "\n",
    "    #Second Task: Open the list of list as integers\n",
    "    raw_edges = [line.strip().split('\\t') for line in raw_edges]\n",
    "    formatted_edges = []\n",
    "    for edge in raw_edges:\n",
    "        edge = [int(node) for node in edge]\n",
    "        formatted_edges.append(edge)\n",
    "\n",
    "    #Lopping over data to match raw_edges with corresponding raw_layers\n",
    "    output = []\n",
    "    for i in range(len(raw_layers)):\n",
    "        if raw_layers[i] == wanted_layer:\n",
    "            output.append(formatted_edges[i])\n",
    "    return(output)\n",
    "\n",
    "def calculate_degrees_from_edges(edge_list):\n",
    "    degrees = {}\n",
    "    for edge in edge_list:\n",
    "        for node in edge:\n",
    "            if node in degrees:\n",
    "                degrees[node] += 1\n",
    "            else:\n",
    "                degrees[node] = 1\n",
    "\n",
    "    return degrees"
   ]
  },
  {
   "cell_type": "code",
   "execution_count": 4,
   "metadata": {},
   "outputs": [],
   "source": [
    "edges = get_edges_from_file('MAG-10-hyperedges.txt','MAG-10-hyperedge-labels.txt',1)\n",
    "degrees = calculate_degrees_from_edges(edges)\n",
    "\n",
    "counts = Counter(degrees.values())\n",
    "\n",
    "edges_2 = get_edges_from_file('MAG-10-hyperedges.txt','MAG-10-hyperedge-labels.txt',2)\n",
    "degrees_2 = calculate_degrees_from_edges(edges_2)\n",
    "\n",
    "counts_2 = Counter(degrees_2.values())\n",
    "\n",
    "edges_3 = get_edges_from_file('MAG-10-hyperedges.txt','MAG-10-hyperedge-labels.txt',3)\n",
    "degrees_3 = calculate_degrees_from_edges(edges_3)\n",
    "\n",
    "counts_3 = Counter(degrees_3.values())"
   ]
  },
  {
   "cell_type": "code",
   "execution_count": 6,
   "metadata": {},
   "outputs": [
    {
     "data": {
      "text/plain": [
       "<matplotlib.legend.Legend at 0x1b831d0b3e0>"
      ]
     },
     "execution_count": 6,
     "metadata": {},
     "output_type": "execute_result"
    },
    {
     "data": {
      "image/png": "[encoded data removed]",
      "text/plain": [
       "<Figure size 640x480 with 1 Axes>"
      ]
     },
     "metadata": {},
     "output_type": "display_data"
    }
   ],
   "source": [
    "#Task 4: Plot the Figures\n",
    "plt.figure()\n",
    "plt.hist(\n",
    "    degrees.values(),\n",
    "    bins=np.logspace(\n",
    "        np.log10(1),np.log10(max(degrees)),\n",
    "                    30),\n",
    "    fill = False,\n",
    "    histtype = \"step\",\n",
    "    label = \"1\"\n",
    "    )\n",
    "\n",
    "plt.hist(\n",
    "    degrees_2.values(),\n",
    "    bins=np.logspace(\n",
    "        np.log10(1),np.log10(max(degrees_2)),\n",
    "                    30),\n",
    "    fill = False,\n",
    "    histtype = \"step\",\n",
    "    label = \"2\"\n",
    "    )\n",
    "\n",
    "plt.hist(\n",
    "    degrees_3.values(),\n",
    "    bins=np.logspace(\n",
    "        np.log10(1),np.log10(max(degrees_3)),\n",
    "                    30),\n",
    "    fill = False,\n",
    "    histtype = \"step\",\n",
    "    label = \"3\"\n",
    "    )\n",
    "\n",
    "plt.xlabel(\"degree\")\n",
    "plt.ylabel(\"count\")\n",
    "plt.xscale(\"log\")\n",
    "plt.yscale(\"log\")\n",
    "plt.title(\"MAG-10 Degree Layer Dataset\")\n",
    "plt.savefig(\"MAG-10_Dataset_Degree_Layer.png\", dpi = 600)\n",
    "plt.legend()"
   ]
  }
 ],
 "metadata": {
  "kernelspec": {
   "display_name": "Python 3",
   "language": "python",
   "name": "python3"
  },
  "language_info": {
   "codemirror_mode": {
    "name": "ipython",
    "version": 3
   },
   "file_extension": ".py",
   "mimetype": "text/x-python",
   "name": "python",
   "nbconvert_exporter": "python",
   "pygments_lexer": "ipython3",
   "version": "3.12.6"
  }
 },
 "nbformat": 4,
 "nbformat_minor": 2
}
